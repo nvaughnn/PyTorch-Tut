{
  "nbformat": 4,
  "nbformat_minor": 0,
  "metadata": {
    "colab": {
      "provenance": [],
      "gpuType": "T4",
      "authorship_tag": "ABX9TyMtFfK1DV07tHfaQ3CuxWDU",
      "include_colab_link": true
    },
    "kernelspec": {
      "name": "python3",
      "display_name": "Python 3"
    },
    "language_info": {
      "name": "python"
    },
    "accelerator": "GPU"
  },
  "cells": [
    {
      "cell_type": "markdown",
      "metadata": {
        "id": "view-in-github",
        "colab_type": "text"
      },
      "source": [
        "<a href=\"https://colab.research.google.com/github/nvaughnn/PyTorch-Tut/blob/main/Simple_nn.ipynb\" target=\"_parent\"><img src=\"https://colab.research.google.com/assets/colab-badge.svg\" alt=\"Open In Colab\"/></a>"
      ]
    },
    {
      "cell_type": "code",
      "execution_count": 3,
      "metadata": {
        "id": "Fw8O3dGTlVhA"
      },
      "outputs": [],
      "source": [
        "import torch\n",
        "import torch.nn as nn\n",
        "import torch.nn.functional as functional\n",
        "import numpy as np"
      ]
    },
    {
      "cell_type": "code",
      "source": [
        "# Cretate Model Class that inherits nn.Module\n",
        "class Model(nn.Module):\n",
        "  # Input Layer (4 Features of Flower) -->\n",
        "  # Hidden Layer 1 (with nerons) -->\n",
        "  # Hidden Layer 2 --> Output\n",
        "  def __init__(self, in_features=4, h1=8, h2=10, h3=16, out_features=3):\n",
        "    super().__init__() # instantiate nn.Module\n",
        "    self.fc1 = nn.Linear(in_features, h1)\n",
        "    self.fc2 = nn.Linear(h1, h2)\n",
        "    self.fc3 = nn.Linear(h2, h3)\n",
        "    self.out = nn.Linear(h3,out_features)\n",
        "\n",
        "  def forwardpass(self, x):\n",
        "    x = functional.relu(self.fc1(x))\n",
        "    x = functional.relu(self.fc2(x))\n",
        "    x = functional.relu(self.fc3(x))\n",
        "    x = self.out(x)\n",
        "\n",
        "    return x"
      ],
      "metadata": {
        "id": "04_0tjoElvcI"
      },
      "execution_count": 9,
      "outputs": []
    },
    {
      "cell_type": "code",
      "source": [
        "# Random Seed\n",
        "torch.manual_seed(41)\n",
        "# Create Instance\n",
        "model = Model()"
      ],
      "metadata": {
        "id": "_cNQwIW1yUvj"
      },
      "execution_count": 10,
      "outputs": []
    },
    {
      "cell_type": "code",
      "source": [],
      "metadata": {
        "id": "bbGhTuRXyp3h"
      },
      "execution_count": null,
      "outputs": []
    }
  ]
}