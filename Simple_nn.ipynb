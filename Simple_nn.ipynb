{
  "nbformat": 4,
  "nbformat_minor": 0,
  "metadata": {
    "colab": {
      "provenance": [],
      "gpuType": "T4",
      "authorship_tag": "ABX9TyNm6VI6KNSWW7B92IZVDlRC",
      "include_colab_link": true
    },
    "kernelspec": {
      "name": "python3",
      "display_name": "Python 3"
    },
    "language_info": {
      "name": "python"
    },
    "accelerator": "GPU"
  },
  "cells": [
    {
      "cell_type": "markdown",
      "metadata": {
        "id": "view-in-github",
        "colab_type": "text"
      },
      "source": [
        "<a href=\"https://colab.research.google.com/github/nvaughnn/PyTorch-Tut/blob/main/Simple_nn.ipynb\" target=\"_parent\"><img src=\"https://colab.research.google.com/assets/colab-badge.svg\" alt=\"Open In Colab\"/></a>"
      ]
    },
    {
      "cell_type": "code",
      "execution_count": 27,
      "metadata": {
        "id": "Fw8O3dGTlVhA"
      },
      "outputs": [],
      "source": [
        "import torch\n",
        "import torch.nn as nn\n",
        "import torch.nn.functional as functional\n",
        "import numpy as np\n",
        "import matplotlib.pyplot as plt\n",
        "import pandas as pd\n",
        "from google.colab import drive\n",
        "from sklearn.model_selection import train_test_split\n",
        "%matplotlib inline"
      ]
    },
    {
      "cell_type": "code",
      "source": [
        "# Cretate Model Class that inherits nn.Module\n",
        "class Model(nn.Module):\n",
        "  # Input Layer (4 Features of Flower) -->\n",
        "  # Hidden Layer 1 (with nerons) -->\n",
        "  # Hidden Layer 2 --> Output\n",
        "  def __init__(self, in_features=4, h1=8, h2=10, h3=16, out_features=3):\n",
        "    super().__init__() # instantiate nn.Module\n",
        "    self.fc1 = nn.Linear(in_features, h1)\n",
        "    self.fc2 = nn.Linear(h1, h2)\n",
        "    self.fc3 = nn.Linear(h2, h3)\n",
        "    self.out = nn.Linear(h3,out_features)\n",
        "\n",
        "  def forwardpass(self, x):\n",
        "    x = functional.relu(self.fc1(x))\n",
        "    x = functional.relu(self.fc2(x))\n",
        "    x = functional.relu(self.fc3(x))\n",
        "    x = self.out(x)\n",
        "\n",
        "    return x"
      ],
      "metadata": {
        "id": "04_0tjoElvcI"
      },
      "execution_count": 57,
      "outputs": []
    },
    {
      "cell_type": "code",
      "source": [
        "# Random Seed\n",
        "torch.manual_seed(1234)\n",
        "# Create Instance\n",
        "model = Model()"
      ],
      "metadata": {
        "id": "_cNQwIW1yUvj"
      },
      "execution_count": 58,
      "outputs": []
    },
    {
      "cell_type": "code",
      "source": [
        "# Load data file\n",
        "url = 'https://gist.githubusercontent.com/curran/a08a1080b88344b0c8a7/raw/0e7a9b0a5d22642a06d3d5b9bcbad9890c8ee534/iris.csv'\n",
        "my_df = pd.read_csv(url)\n",
        "\n",
        "# Change species to number\n",
        "my_df['species'] = my_df['species'].replace('setosa', 0.0).replace('versicolor', 1.0).replace('virginica', 2.0)"
      ],
      "metadata": {
        "colab": {
          "base_uri": "https://localhost:8080/"
        },
        "id": "bbGhTuRXyp3h",
        "outputId": "8062c481-24a0-42a0-b35c-d3745154ddc3"
      },
      "execution_count": 59,
      "outputs": [
        {
          "output_type": "stream",
          "name": "stderr",
          "text": [
            "<ipython-input-59-7a135fe33531>:6: FutureWarning: Downcasting behavior in `replace` is deprecated and will be removed in a future version. To retain the old behavior, explicitly call `result.infer_objects(copy=False)`. To opt-in to the future behavior, set `pd.set_option('future.no_silent_downcasting', True)`\n",
            "  my_df['species'] = my_df['species'].replace('setosa', 0.0).replace('versicolor', 1.0).replace('virginica', 2.0)\n"
          ]
        }
      ]
    },
    {
      "cell_type": "code",
      "source": [
        "# Train Test Split | Set x, y\n",
        "XX = my_df.drop('species', axis=1)\n",
        "yy = my_df['species']"
      ],
      "metadata": {
        "id": "bhVWSDk87IG6"
      },
      "execution_count": 60,
      "outputs": []
    },
    {
      "cell_type": "code",
      "source": [
        "# Convert to numpy arrays\n",
        "X = XX.values\n",
        "y = yy.values"
      ],
      "metadata": {
        "id": "wpFZ7BrU8DmK"
      },
      "execution_count": 61,
      "outputs": []
    },
    {
      "cell_type": "code",
      "source": [
        "#Train Test Split\n",
        "X_train, X_test, y_train, y_test = train_test_split(X, y, test_size = 0.2, random_state = 1234)"
      ],
      "metadata": {
        "id": "LhEy7I4j8zFm"
      },
      "execution_count": 62,
      "outputs": []
    },
    {
      "cell_type": "code",
      "source": [
        "# Convert X, y features to float tensor\n",
        "X_train = torch.FloatTensor(X_train)\n",
        "X_test = torch.FloatTensor(X_test)\n",
        "\n",
        "y_train = torch.LongTensor(y_train)\n",
        "y_test = torch.LongTensor(y_test)\n"
      ],
      "metadata": {
        "id": "X3CpZETt-qjl"
      },
      "execution_count": 63,
      "outputs": []
    },
    {
      "cell_type": "code",
      "source": [
        "# Meaure Error, Choose Optim, Learning Rate\n",
        "crit = nn.CrossEntropyLoss()\n",
        "opt = torch.optim.Adam(model.parameters(), lr = 0.001)"
      ],
      "metadata": {
        "id": "vY3h4Qbu_Lx2"
      },
      "execution_count": 64,
      "outputs": []
    },
    {
      "cell_type": "code",
      "source": [
        "# Train, Need number of epochs or data runs through model\n",
        "epochs = 3000\n",
        "losses = []\n",
        "for i in range(epochs):\n",
        "  y_pred = model.forwardpass(X_train)\n",
        "\n",
        "  # Measure Loss\n",
        "  loss = crit(y_pred, y_train) # Predcited Vs Expected\n",
        "  losses.append(loss.detach().numpy())\n",
        "\n",
        "  # Print every 10 epochs\n",
        "  #if i % 10 == 0:\n",
        "    #print(f'Epoch: {i} and loss: {loss}')\n",
        "\n",
        "  # Back Propagation\n",
        "  opt.zero_grad()\n",
        "  loss.backward()\n",
        "  opt.step()\n",
        "\n",
        "# MatPlot the epoch/error\n",
        "plt.plot(range(epochs), losses)\n",
        "plt.ylabel('loss/error')\n",
        "plt.xlabel('Epoch')"
      ],
      "metadata": {
        "colab": {
          "base_uri": "https://localhost:8080/",
          "height": 467
        },
        "id": "07HD-hl8_7Te",
        "outputId": "78753438-1c92-41a6-c0a1-ba66a76e46bc"
      },
      "execution_count": 65,
      "outputs": [
        {
          "output_type": "execute_result",
          "data": {
            "text/plain": [
              "Text(0.5, 0, 'Epoch')"
            ]
          },
          "metadata": {},
          "execution_count": 65
        },
        {
          "output_type": "display_data",
          "data": {
            "text/plain": [
              "<Figure size 640x480 with 1 Axes>"
            ],
            "image/png": "[encoded data removed]"
          },
          "metadata": {}
        }
      ]
    },
    {
      "cell_type": "code",
      "source": [
        "# Evaluate model on Test Data (X)\n",
        "# Turn off back prop\n",
        "# X_test are features from test set (inputs)\n",
        "# y_eval are predictions\n",
        "with torch.no_grad():\n",
        "  y_eval = model.forwardpass(X_test)\n",
        "  loss = crit(y_eval, y_test)"
      ],
      "metadata": {
        "id": "bKQGMubWACKu"
      },
      "execution_count": 66,
      "outputs": []
    },
    {
      "cell_type": "code",
      "source": [
        "loss"
      ],
      "metadata": {
        "colab": {
          "base_uri": "https://localhost:8080/"
        },
        "id": "f2zNgCOSEO6L",
        "outputId": "7d901fef-1b74-4ad5-8f35-ec640f1f811a"
      },
      "execution_count": 67,
      "outputs": [
        {
          "output_type": "execute_result",
          "data": {
            "text/plain": [
              "tensor(0.0023)"
            ]
          },
          "metadata": {},
          "execution_count": 67
        }
      ]
    },
    {
      "cell_type": "code",
      "source": [
        "correct = 0\n",
        "with torch.no_grad():\n",
        "  for i, data in enumerate(X_test):\n",
        "    y_val = model.forwardpass(data)\n",
        "\n",
        "    # Correct or not\n",
        "    if y_val.argmax().item() == y_test[i]:\n",
        "      correct += 1\n",
        "      cscore = \"Good\"\n",
        "    else:\n",
        "      cscore = \"Bad\"\n",
        "\n",
        "    # Will tell us the type of flower nn thinks it is\n",
        "    #print(f'{i+1}.) {str(y_val)} \\t {cscore}')\n",
        "\n",
        "  print(f'We got {correct} Correct!')"
      ],
      "metadata": {
        "colab": {
          "base_uri": "https://localhost:8080/"
        },
        "id": "zTwXPBQIEQie",
        "outputId": "47748c8e-07d5-49c3-b604-680f64750780"
      },
      "execution_count": 69,
      "outputs": [
        {
          "output_type": "stream",
          "name": "stdout",
          "text": [
            "We got 30 Correct!\n"
          ]
        }
      ]
    },
    {
      "cell_type": "code",
      "source": [
        "# Testing\n",
        "new_iris = torch.tensor([4.7, 3.2, 1.3, 0.2])\n",
        "with torch.no_grad():\n",
        "  print(model.forwardpass(new_iris))\n",
        "  newer_iris = torch.tensor([5.9, 3.0, 5.1, 1.8])\n",
        "with torch.no_grad():\n",
        "  print(model.forwardpass(newer_iris))"
      ],
      "metadata": {
        "id": "N1iP-340E9CW"
      },
      "execution_count": 70,
      "outputs": []
    },
    {
      "cell_type": "code",
      "source": [
        "# Save our nn Model\n",
        "torch.save(model.state_dict(), 'Basic_Iris_Model.pt')"
      ],
      "metadata": {
        "id": "TPzgivx4JvTt"
      },
      "execution_count": 76,
      "outputs": []
    },
    {
      "cell_type": "code",
      "source": [
        "#Load a saved model\n",
        "new_model = Model()\n",
        "new_model.load_state_dict(torch.load('Basic_Iris_Model.pt'))"
      ],
      "metadata": {
        "colab": {
          "base_uri": "https://localhost:8080/"
        },
        "id": "75hjxnrMYZzW",
        "outputId": "9fa21a02-4153-4782-eee1-bd9c40362770"
      },
      "execution_count": 78,
      "outputs": [
        {
          "output_type": "stream",
          "name": "stderr",
          "text": [
            "<ipython-input-78-b6c7077fcc1b>:3: FutureWarning: You are using `torch.load` with `weights_only=False` (the current default value), which uses the default pickle module implicitly. It is possible to construct malicious pickle data which will execute arbitrary code during unpickling (See https://github.com/pytorch/pytorch/blob/main/SECURITY.md#untrusted-models for more details). In a future release, the default value for `weights_only` will be flipped to `True`. This limits the functions that could be executed during unpickling. Arbitrary objects will no longer be allowed to be loaded via this mode unless they are explicitly allowlisted by the user via `torch.serialization.add_safe_globals`. We recommend you start setting `weights_only=True` for any use case where you don't have full control of the loaded file. Please open an issue on GitHub for any issues related to this experimental feature.\n",
            "  new_model.load_state_dict(torch.load('Basic_Iris_Model.pt'))\n"
          ]
        },
        {
          "output_type": "execute_result",
          "data": {
            "text/plain": [
              "<All keys matched successfully>"
            ]
          },
          "metadata": {},
          "execution_count": 78
        }
      ]
    },
    {
      "cell_type": "code",
      "source": [
        "# Check to see if it loaded correctly\n",
        "new_model.eval()"
      ],
      "metadata": {
        "colab": {
          "base_uri": "https://localhost:8080/"
        },
        "id": "v6TduJKFYmbQ",
        "outputId": "6a2f5818-ca2e-4afb-d5ef-6ef36e276e31"
      },
      "execution_count": 79,
      "outputs": [
        {
          "output_type": "execute_result",
          "data": {
            "text/plain": [
              "Model(\n",
              "  (fc1): Linear(in_features=4, out_features=8, bias=True)\n",
              "  (fc2): Linear(in_features=8, out_features=10, bias=True)\n",
              "  (fc3): Linear(in_features=10, out_features=16, bias=True)\n",
              "  (out): Linear(in_features=16, out_features=3, bias=True)\n",
              ")"
            ]
          },
          "metadata": {},
          "execution_count": 79
        }
      ]
    },
    {
      "cell_type": "code",
      "source": [],
      "metadata": {
        "id": "7criGremY_o7"
      },
      "execution_count": null,
      "outputs": []
    }
  ]
}