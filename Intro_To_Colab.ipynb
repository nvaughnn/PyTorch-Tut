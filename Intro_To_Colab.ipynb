{
  "nbformat": 4,
  "nbformat_minor": 0,
  "metadata": {
    "colab": {
      "provenance": [],
      "gpuType": "T4",
      "authorship_tag": "ABX9TyMBVdwNm4tUhN4cSHZD6MYM",
      "include_colab_link": true
    },
    "kernelspec": {
      "name": "python3",
      "display_name": "Python 3"
    },
    "language_info": {
      "name": "python"
    },
    "accelerator": "GPU"
  },
  "cells": [
    {
      "cell_type": "markdown",
      "metadata": {
        "id": "view-in-github",
        "colab_type": "text"
      },
      "source": [
        "<a href=\"https://colab.research.google.com/github/nvaughnn/PyTorch-Tut/blob/main/Intro_To_Colab.ipynb\" target=\"_parent\"><img src=\"https://colab.research.google.com/assets/colab-badge.svg\" alt=\"Open In Colab\"/></a>"
      ]
    },
    {
      "cell_type": "code",
      "source": [
        "import torch\n",
        "import numpy as np"
      ],
      "metadata": {
        "id": "2kTOVUo3BblP"
      },
      "execution_count": 3,
      "outputs": []
    },
    {
      "cell_type": "code",
      "source": [
        "mylist = [[1,3,5,7,9],[2,4,6,8,0]]"
      ],
      "metadata": {
        "id": "mKlba4OkCE_p"
      },
      "execution_count": 8,
      "outputs": []
    },
    {
      "cell_type": "code",
      "source": [
        "nplist = np.random.rand(6,6)"
      ],
      "metadata": {
        "id": "TyPl5B4hJ4dV"
      },
      "execution_count": 11,
      "outputs": []
    },
    {
      "cell_type": "code",
      "source": [
        "tensorlist = torch.randn(6,6)"
      ],
      "metadata": {
        "id": "inMt4419KO_A"
      },
      "execution_count": 16,
      "outputs": []
    },
    {
      "cell_type": "code",
      "source": [
        "tensorzeros = torch.zeros(6,6,10)"
      ],
      "metadata": {
        "id": "8IvUyvZqKfOu"
      },
      "execution_count": 17,
      "outputs": []
    },
    {
      "cell_type": "code",
      "source": [
        "mytensor = torch.tensor(nplist)"
      ],
      "metadata": {
        "id": "mgvY4J1MK2jC"
      },
      "execution_count": 18,
      "outputs": []
    },
    {
      "cell_type": "code",
      "source": [
        "mytensor = mytensor.reshape(3,-1)"
      ],
      "metadata": {
        "id": "Qvj1ZI4TM1iY"
      },
      "execution_count": 22,
      "outputs": []
    },
    {
      "cell_type": "code",
      "source": [
        "Tensor1 = torch.arange(10)\n"
      ],
      "metadata": {
        "id": "WZuxEDEbPJV9"
      },
      "execution_count": 26,
      "outputs": []
    },
    {
      "cell_type": "code",
      "source": [
        "Tensor1 = Tensor1.reshape(5,2)"
      ],
      "metadata": {
        "id": "WtUEUDqnPyzE"
      },
      "execution_count": 27,
      "outputs": []
    },
    {
      "cell_type": "code",
      "source": [
        "Tensor1[1,0]=2020"
      ],
      "metadata": {
        "id": "Xt0FyC83P-uk"
      },
      "execution_count": 39,
      "outputs": []
    },
    {
      "cell_type": "code",
      "source": [],
      "metadata": {
        "id": "KWw08Sb7QeUe"
      },
      "execution_count": null,
      "outputs": []
    },
    {
      "cell_type": "code",
      "source": [],
      "metadata": {
        "id": "RvqBL5A8SjT4"
      },
      "execution_count": null,
      "outputs": []
    }
  ]
}